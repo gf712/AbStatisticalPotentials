{
 "cells": [
  {
   "cell_type": "code",
   "execution_count": 1,
   "metadata": {},
   "outputs": [],
   "source": [
    "import mdtraj as md\n",
    "import numpy as np\n",
    "from collections import defaultdict\n",
    "from scripts import compute_statistical_potential\n",
    "from glob import glob\n",
    "import json\n",
    "import pandas as pd"
   ]
  },
  {
   "cell_type": "code",
   "execution_count": 2,
   "metadata": {},
   "outputs": [],
   "source": [
    "PATH = \"/home/gf712/StatisticalPotential/data/statistical_potentials/\""
   ]
  },
  {
   "cell_type": "code",
   "execution_count": 3,
   "metadata": {},
   "outputs": [],
   "source": [
    "files = glob(\"/home/gf712/data/Jain_models/*.pdb\")\n",
    "data = pd.read_csv(\"/home/gf712/data/Jain_models/jain2017_all.csv\", index_col=0)\n",
    "names = [file.split('/')[-1].split('.')[0] for file in files]"
   ]
  },
  {
   "cell_type": "code",
   "execution_count": 4,
   "metadata": {},
   "outputs": [],
   "source": [
    "mesostable = [name for name in names if data.loc[name]['Tm50'] <= 70.0]\n",
    "thermostable = [name for name in names if data.loc[name]['Tm50'] > 70.0]"
   ]
  },
  {
   "cell_type": "code",
   "execution_count": 5,
   "metadata": {
    "scrolled": true
   },
   "outputs": [],
   "source": [
    "mesostable_pdbs = [md.load_pdb(file) for file in files if file.split('/')[-1].split('.')[0] in mesostable]\n",
    "thermostable_pdbs = [md.load_pdb(file) for file in files if file.split('/')[-1].split('.')[0] in thermostable]"
   ]
  },
  {
   "cell_type": "code",
   "execution_count": 6,
   "metadata": {},
   "outputs": [
    {
     "name": "stdout",
     "output_type": "stream",
     "text": [
      "The history saving thread hit an unexpected error (OperationalError('database is locked')).History will not be written to the database.\n"
     ]
    }
   ],
   "source": [
    "compute_statistical_potential(mesostable_pdbs, PATH, \"mesostable\")\n",
    "compute_statistical_potential(thermostable_pdbs, PATH, \"thermostable\")"
   ]
  },
  {
   "cell_type": "code",
   "execution_count": null,
   "metadata": {},
   "outputs": [],
   "source": []
  }
 ],
 "metadata": {
  "kernelspec": {
   "display_name": "Python 3",
   "language": "python",
   "name": "python3"
  },
  "language_info": {
   "codemirror_mode": {
    "name": "ipython",
    "version": 3
   },
   "file_extension": ".py",
   "mimetype": "text/x-python",
   "name": "python",
   "nbconvert_exporter": "python",
   "pygments_lexer": "ipython3",
   "version": "3.7.3"
  }
 },
 "nbformat": 4,
 "nbformat_minor": 2
}
